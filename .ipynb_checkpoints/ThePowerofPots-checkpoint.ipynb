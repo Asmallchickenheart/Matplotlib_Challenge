{
 "cells": [
  {
   "cell_type": "code",
   "execution_count": 1,
   "id": "28eff293",
   "metadata": {
    "pycharm": {
     "name": "#%%\n"
    }
   },
   "outputs": [
    {
     "data": {
      "text/html": [
       "<div>\n",
       "<style scoped>\n",
       "    .dataframe tbody tr th:only-of-type {\n",
       "        vertical-align: middle;\n",
       "    }\n",
       "\n",
       "    .dataframe tbody tr th {\n",
       "        vertical-align: top;\n",
       "    }\n",
       "\n",
       "    .dataframe thead th {\n",
       "        text-align: right;\n",
       "    }\n",
       "</style>\n",
       "<table border=\"1\" class=\"dataframe\">\n",
       "  <thead>\n",
       "    <tr style=\"text-align: right;\">\n",
       "      <th></th>\n",
       "      <th>Mouse ID</th>\n",
       "      <th>Drug Regimen</th>\n",
       "      <th>Sex</th>\n",
       "      <th>Age_months</th>\n",
       "      <th>Weight (g)</th>\n",
       "      <th>Timepoint</th>\n",
       "      <th>Tumor Volume (mm3)</th>\n",
       "      <th>Metastatic Sites</th>\n",
       "    </tr>\n",
       "  </thead>\n",
       "  <tbody>\n",
       "    <tr>\n",
       "      <th>0</th>\n",
       "      <td>b128</td>\n",
       "      <td>Capomulin</td>\n",
       "      <td>Female</td>\n",
       "      <td>9</td>\n",
       "      <td>22</td>\n",
       "      <td>0</td>\n",
       "      <td>45.000000</td>\n",
       "      <td>0</td>\n",
       "    </tr>\n",
       "    <tr>\n",
       "      <th>1</th>\n",
       "      <td>f932</td>\n",
       "      <td>Ketapril</td>\n",
       "      <td>Male</td>\n",
       "      <td>15</td>\n",
       "      <td>29</td>\n",
       "      <td>0</td>\n",
       "      <td>45.000000</td>\n",
       "      <td>0</td>\n",
       "    </tr>\n",
       "    <tr>\n",
       "      <th>2</th>\n",
       "      <td>g107</td>\n",
       "      <td>Ketapril</td>\n",
       "      <td>Female</td>\n",
       "      <td>2</td>\n",
       "      <td>29</td>\n",
       "      <td>0</td>\n",
       "      <td>45.000000</td>\n",
       "      <td>0</td>\n",
       "    </tr>\n",
       "    <tr>\n",
       "      <th>3</th>\n",
       "      <td>a457</td>\n",
       "      <td>Ketapril</td>\n",
       "      <td>Female</td>\n",
       "      <td>11</td>\n",
       "      <td>30</td>\n",
       "      <td>0</td>\n",
       "      <td>45.000000</td>\n",
       "      <td>0</td>\n",
       "    </tr>\n",
       "    <tr>\n",
       "      <th>4</th>\n",
       "      <td>c819</td>\n",
       "      <td>Ketapril</td>\n",
       "      <td>Male</td>\n",
       "      <td>21</td>\n",
       "      <td>25</td>\n",
       "      <td>0</td>\n",
       "      <td>45.000000</td>\n",
       "      <td>0</td>\n",
       "    </tr>\n",
       "    <tr>\n",
       "      <th>...</th>\n",
       "      <td>...</td>\n",
       "      <td>...</td>\n",
       "      <td>...</td>\n",
       "      <td>...</td>\n",
       "      <td>...</td>\n",
       "      <td>...</td>\n",
       "      <td>...</td>\n",
       "      <td>...</td>\n",
       "    </tr>\n",
       "    <tr>\n",
       "      <th>1888</th>\n",
       "      <td>r944</td>\n",
       "      <td>Capomulin</td>\n",
       "      <td>Male</td>\n",
       "      <td>12</td>\n",
       "      <td>25</td>\n",
       "      <td>45</td>\n",
       "      <td>41.581521</td>\n",
       "      <td>2</td>\n",
       "    </tr>\n",
       "    <tr>\n",
       "      <th>1889</th>\n",
       "      <td>u364</td>\n",
       "      <td>Capomulin</td>\n",
       "      <td>Male</td>\n",
       "      <td>18</td>\n",
       "      <td>17</td>\n",
       "      <td>45</td>\n",
       "      <td>31.023923</td>\n",
       "      <td>3</td>\n",
       "    </tr>\n",
       "    <tr>\n",
       "      <th>1890</th>\n",
       "      <td>p438</td>\n",
       "      <td>Ceftamin</td>\n",
       "      <td>Female</td>\n",
       "      <td>11</td>\n",
       "      <td>26</td>\n",
       "      <td>45</td>\n",
       "      <td>61.433892</td>\n",
       "      <td>1</td>\n",
       "    </tr>\n",
       "    <tr>\n",
       "      <th>1891</th>\n",
       "      <td>x773</td>\n",
       "      <td>Placebo</td>\n",
       "      <td>Female</td>\n",
       "      <td>21</td>\n",
       "      <td>30</td>\n",
       "      <td>45</td>\n",
       "      <td>58.634971</td>\n",
       "      <td>4</td>\n",
       "    </tr>\n",
       "    <tr>\n",
       "      <th>1892</th>\n",
       "      <td>b879</td>\n",
       "      <td>Stelasyn</td>\n",
       "      <td>Female</td>\n",
       "      <td>4</td>\n",
       "      <td>26</td>\n",
       "      <td>45</td>\n",
       "      <td>72.555239</td>\n",
       "      <td>2</td>\n",
       "    </tr>\n",
       "  </tbody>\n",
       "</table>\n",
       "<p>1893 rows × 8 columns</p>\n",
       "</div>"
      ],
      "text/plain": [
       "     Mouse ID Drug Regimen     Sex  Age_months  Weight (g)  Timepoint  \\\n",
       "0        b128    Capomulin  Female           9          22          0   \n",
       "1        f932     Ketapril    Male          15          29          0   \n",
       "2        g107     Ketapril  Female           2          29          0   \n",
       "3        a457     Ketapril  Female          11          30          0   \n",
       "4        c819     Ketapril    Male          21          25          0   \n",
       "...       ...          ...     ...         ...         ...        ...   \n",
       "1888     r944    Capomulin    Male          12          25         45   \n",
       "1889     u364    Capomulin    Male          18          17         45   \n",
       "1890     p438     Ceftamin  Female          11          26         45   \n",
       "1891     x773      Placebo  Female          21          30         45   \n",
       "1892     b879     Stelasyn  Female           4          26         45   \n",
       "\n",
       "      Tumor Volume (mm3)  Metastatic Sites  \n",
       "0              45.000000                 0  \n",
       "1              45.000000                 0  \n",
       "2              45.000000                 0  \n",
       "3              45.000000                 0  \n",
       "4              45.000000                 0  \n",
       "...                  ...               ...  \n",
       "1888           41.581521                 2  \n",
       "1889           31.023923                 3  \n",
       "1890           61.433892                 1  \n",
       "1891           58.634971                 4  \n",
       "1892           72.555239                 2  \n",
       "\n",
       "[1893 rows x 8 columns]"
      ]
     },
     "execution_count": 1,
     "metadata": {},
     "output_type": "execute_result"
    }
   ],
   "source": [
    "# Setting the begining\n",
    "import matplotlib.pyplot as plt\n",
    "import numpy as np\n",
    "import pandas as pd\n",
    "import scipy.stats as st\n",
    "\n",
    "# Study data files\n",
    "Mouse_metadatapath = \"/Users/siyuanliang/BootCamp_University/ThePowerofPlots/Mouse_metadata.csv\"\n",
    "Study_resultspath =\"/Users/siyuanliang/BootCamp_University/ThePowerofPlots/Study_results.csv\"\n",
    "\n",
    "# Read the mouse data and the study results\n",
    "Mouse_metadata = pd.read_csv(Mouse_metadatapath)\n",
    "Study_results = pd.read_csv(Study_resultspath)\n",
    "\n",
    "# Combine the data into a single dataset\n",
    "newdf = Mouse_metadata.merge(Study_results, how='right')\n",
    "\n",
    "# Display the data table for preview\n",
    "newdf\n",
    "\n"
   ]
  },
  {
   "cell_type": "code",
   "execution_count": 2,
   "id": "4938b311",
   "metadata": {
    "pycharm": {
     "is_executing": true,
     "name": "#%%\n"
    }
   },
   "outputs": [],
   "source": [
    "# Checking the number of mice.\n",
    "Mouse = newdf[\"Mouse ID\"].unique()\n",
    "Mousenumber = len(Mouse)\n",
    "\n"
   ]
  },
  {
   "cell_type": "code",
   "execution_count": 3,
   "id": "944d0df3",
   "metadata": {
    "pycharm": {
     "name": "#%%\n"
    }
   },
   "outputs": [
    {
     "data": {
      "text/html": [
       "<div>\n",
       "<style scoped>\n",
       "    .dataframe tbody tr th:only-of-type {\n",
       "        vertical-align: middle;\n",
       "    }\n",
       "\n",
       "    .dataframe tbody tr th {\n",
       "        vertical-align: top;\n",
       "    }\n",
       "\n",
       "    .dataframe thead th {\n",
       "        text-align: right;\n",
       "    }\n",
       "</style>\n",
       "<table border=\"1\" class=\"dataframe\">\n",
       "  <thead>\n",
       "    <tr style=\"text-align: right;\">\n",
       "      <th></th>\n",
       "      <th>Mouse ID</th>\n",
       "      <th>Timepoint</th>\n",
       "    </tr>\n",
       "  </thead>\n",
       "  <tbody>\n",
       "    <tr>\n",
       "      <th>137</th>\n",
       "      <td>g989</td>\n",
       "      <td>0</td>\n",
       "    </tr>\n",
       "    <tr>\n",
       "      <th>250</th>\n",
       "      <td>a275</td>\n",
       "      <td>5</td>\n",
       "    </tr>\n",
       "    <tr>\n",
       "      <th>251</th>\n",
       "      <td>w575</td>\n",
       "      <td>5</td>\n",
       "    </tr>\n",
       "    <tr>\n",
       "      <th>252</th>\n",
       "      <td>x822</td>\n",
       "      <td>5</td>\n",
       "    </tr>\n",
       "    <tr>\n",
       "      <th>253</th>\n",
       "      <td>l509</td>\n",
       "      <td>5</td>\n",
       "    </tr>\n",
       "    <tr>\n",
       "      <th>...</th>\n",
       "      <td>...</td>\n",
       "      <td>...</td>\n",
       "    </tr>\n",
       "    <tr>\n",
       "      <th>1888</th>\n",
       "      <td>r944</td>\n",
       "      <td>45</td>\n",
       "    </tr>\n",
       "    <tr>\n",
       "      <th>1889</th>\n",
       "      <td>u364</td>\n",
       "      <td>45</td>\n",
       "    </tr>\n",
       "    <tr>\n",
       "      <th>1890</th>\n",
       "      <td>p438</td>\n",
       "      <td>45</td>\n",
       "    </tr>\n",
       "    <tr>\n",
       "      <th>1891</th>\n",
       "      <td>x773</td>\n",
       "      <td>45</td>\n",
       "    </tr>\n",
       "    <tr>\n",
       "      <th>1892</th>\n",
       "      <td>b879</td>\n",
       "      <td>45</td>\n",
       "    </tr>\n",
       "  </tbody>\n",
       "</table>\n",
       "<p>1644 rows × 2 columns</p>\n",
       "</div>"
      ],
      "text/plain": [
       "     Mouse ID  Timepoint\n",
       "137      g989          0\n",
       "250      a275          5\n",
       "251      w575          5\n",
       "252      x822          5\n",
       "253      l509          5\n",
       "...       ...        ...\n",
       "1888     r944         45\n",
       "1889     u364         45\n",
       "1890     p438         45\n",
       "1891     x773         45\n",
       "1892     b879         45\n",
       "\n",
       "[1644 rows x 2 columns]"
      ]
     },
     "execution_count": 3,
     "metadata": {},
     "output_type": "execute_result"
    }
   ],
   "source": [
    " # Getting the duplicate mice by ID number that shows up for Mouse ID and Timepoint.\n",
    "duplicate_mouseID = newdf[newdf[\"Mouse ID\"].duplicated()]\n",
    "NEWLIST = duplicate_mouseID[[\"Mouse ID\",\"Timepoint\"]]\n",
    "NEWLIST"
   ]
  },
  {
   "cell_type": "code",
   "execution_count": 4,
   "id": "754583df",
   "metadata": {
    "pycharm": {
     "name": "#%%\n"
    }
   },
   "outputs": [
    {
     "data": {
      "text/html": [
       "<div>\n",
       "<style scoped>\n",
       "    .dataframe tbody tr th:only-of-type {\n",
       "        vertical-align: middle;\n",
       "    }\n",
       "\n",
       "    .dataframe tbody tr th {\n",
       "        vertical-align: top;\n",
       "    }\n",
       "\n",
       "    .dataframe thead th {\n",
       "        text-align: right;\n",
       "    }\n",
       "</style>\n",
       "<table border=\"1\" class=\"dataframe\">\n",
       "  <thead>\n",
       "    <tr style=\"text-align: right;\">\n",
       "      <th></th>\n",
       "      <th>Mouse ID</th>\n",
       "      <th>Drug Regimen</th>\n",
       "      <th>Sex</th>\n",
       "      <th>Age_months</th>\n",
       "      <th>Weight (g)</th>\n",
       "      <th>Timepoint</th>\n",
       "      <th>Tumor Volume (mm3)</th>\n",
       "      <th>Metastatic Sites</th>\n",
       "    </tr>\n",
       "  </thead>\n",
       "  <tbody>\n",
       "    <tr>\n",
       "      <th>137</th>\n",
       "      <td>g989</td>\n",
       "      <td>Propriva</td>\n",
       "      <td>Female</td>\n",
       "      <td>21</td>\n",
       "      <td>26</td>\n",
       "      <td>0</td>\n",
       "      <td>45.000000</td>\n",
       "      <td>0</td>\n",
       "    </tr>\n",
       "    <tr>\n",
       "      <th>250</th>\n",
       "      <td>a275</td>\n",
       "      <td>Ceftamin</td>\n",
       "      <td>Female</td>\n",
       "      <td>20</td>\n",
       "      <td>28</td>\n",
       "      <td>5</td>\n",
       "      <td>46.795257</td>\n",
       "      <td>0</td>\n",
       "    </tr>\n",
       "    <tr>\n",
       "      <th>251</th>\n",
       "      <td>w575</td>\n",
       "      <td>Zoniferol</td>\n",
       "      <td>Female</td>\n",
       "      <td>16</td>\n",
       "      <td>28</td>\n",
       "      <td>5</td>\n",
       "      <td>48.913860</td>\n",
       "      <td>1</td>\n",
       "    </tr>\n",
       "    <tr>\n",
       "      <th>252</th>\n",
       "      <td>x822</td>\n",
       "      <td>Ceftamin</td>\n",
       "      <td>Male</td>\n",
       "      <td>3</td>\n",
       "      <td>29</td>\n",
       "      <td>5</td>\n",
       "      <td>45.671104</td>\n",
       "      <td>1</td>\n",
       "    </tr>\n",
       "    <tr>\n",
       "      <th>253</th>\n",
       "      <td>l509</td>\n",
       "      <td>Capomulin</td>\n",
       "      <td>Male</td>\n",
       "      <td>17</td>\n",
       "      <td>21</td>\n",
       "      <td>5</td>\n",
       "      <td>45.851193</td>\n",
       "      <td>0</td>\n",
       "    </tr>\n",
       "    <tr>\n",
       "      <th>...</th>\n",
       "      <td>...</td>\n",
       "      <td>...</td>\n",
       "      <td>...</td>\n",
       "      <td>...</td>\n",
       "      <td>...</td>\n",
       "      <td>...</td>\n",
       "      <td>...</td>\n",
       "      <td>...</td>\n",
       "    </tr>\n",
       "    <tr>\n",
       "      <th>1888</th>\n",
       "      <td>r944</td>\n",
       "      <td>Capomulin</td>\n",
       "      <td>Male</td>\n",
       "      <td>12</td>\n",
       "      <td>25</td>\n",
       "      <td>45</td>\n",
       "      <td>41.581521</td>\n",
       "      <td>2</td>\n",
       "    </tr>\n",
       "    <tr>\n",
       "      <th>1889</th>\n",
       "      <td>u364</td>\n",
       "      <td>Capomulin</td>\n",
       "      <td>Male</td>\n",
       "      <td>18</td>\n",
       "      <td>17</td>\n",
       "      <td>45</td>\n",
       "      <td>31.023923</td>\n",
       "      <td>3</td>\n",
       "    </tr>\n",
       "    <tr>\n",
       "      <th>1890</th>\n",
       "      <td>p438</td>\n",
       "      <td>Ceftamin</td>\n",
       "      <td>Female</td>\n",
       "      <td>11</td>\n",
       "      <td>26</td>\n",
       "      <td>45</td>\n",
       "      <td>61.433892</td>\n",
       "      <td>1</td>\n",
       "    </tr>\n",
       "    <tr>\n",
       "      <th>1891</th>\n",
       "      <td>x773</td>\n",
       "      <td>Placebo</td>\n",
       "      <td>Female</td>\n",
       "      <td>21</td>\n",
       "      <td>30</td>\n",
       "      <td>45</td>\n",
       "      <td>58.634971</td>\n",
       "      <td>4</td>\n",
       "    </tr>\n",
       "    <tr>\n",
       "      <th>1892</th>\n",
       "      <td>b879</td>\n",
       "      <td>Stelasyn</td>\n",
       "      <td>Female</td>\n",
       "      <td>4</td>\n",
       "      <td>26</td>\n",
       "      <td>45</td>\n",
       "      <td>72.555239</td>\n",
       "      <td>2</td>\n",
       "    </tr>\n",
       "  </tbody>\n",
       "</table>\n",
       "<p>1644 rows × 8 columns</p>\n",
       "</div>"
      ],
      "text/plain": [
       "     Mouse ID Drug Regimen     Sex  Age_months  Weight (g)  Timepoint  \\\n",
       "137      g989     Propriva  Female          21          26          0   \n",
       "250      a275     Ceftamin  Female          20          28          5   \n",
       "251      w575    Zoniferol  Female          16          28          5   \n",
       "252      x822     Ceftamin    Male           3          29          5   \n",
       "253      l509    Capomulin    Male          17          21          5   \n",
       "...       ...          ...     ...         ...         ...        ...   \n",
       "1888     r944    Capomulin    Male          12          25         45   \n",
       "1889     u364    Capomulin    Male          18          17         45   \n",
       "1890     p438     Ceftamin  Female          11          26         45   \n",
       "1891     x773      Placebo  Female          21          30         45   \n",
       "1892     b879     Stelasyn  Female           4          26         45   \n",
       "\n",
       "      Tumor Volume (mm3)  Metastatic Sites  \n",
       "137            45.000000                 0  \n",
       "250            46.795257                 0  \n",
       "251            48.913860                 1  \n",
       "252            45.671104                 1  \n",
       "253            45.851193                 0  \n",
       "...                  ...               ...  \n",
       "1888           41.581521                 2  \n",
       "1889           31.023923                 3  \n",
       "1890           61.433892                 1  \n",
       "1891           58.634971                 4  \n",
       "1892           72.555239                 2  \n",
       "\n",
       "[1644 rows x 8 columns]"
      ]
     },
     "execution_count": 4,
     "metadata": {},
     "output_type": "execute_result"
    }
   ],
   "source": [
    "# Optional: Get all the data for the duplicate mouse ID. \n",
    "duplicate_mouseID"
   ]
  },
  {
   "cell_type": "code",
   "execution_count": 5,
   "id": "2e05996d",
   "metadata": {
    "pycharm": {
     "name": "#%%\n"
    }
   },
   "outputs": [
    {
     "data": {
      "text/plain": [
       "1644"
      ]
     },
     "execution_count": 5,
     "metadata": {},
     "output_type": "execute_result"
    }
   ],
   "source": [
    " # Checking the number of mice in the clean DataFrame.\n",
    "len(duplicate_mouseID)"
   ]
  },
  {
   "cell_type": "markdown",
   "id": "e6319fbf",
   "metadata": {
    "pycharm": {
     "name": "#%% md\n"
    }
   },
   "source": [
    "# Summary Statistics"
   ]
  },
  {
   "cell_type": "code",
   "execution_count": 6,
   "id": "ec7b23a4",
   "metadata": {
    "pycharm": {
     "name": "#%%\n"
    }
   },
   "outputs": [
    {
     "data": {
      "text/html": [
       "<div>\n",
       "<style scoped>\n",
       "    .dataframe tbody tr th:only-of-type {\n",
       "        vertical-align: middle;\n",
       "    }\n",
       "\n",
       "    .dataframe tbody tr th {\n",
       "        vertical-align: top;\n",
       "    }\n",
       "\n",
       "    .dataframe thead th {\n",
       "        text-align: right;\n",
       "    }\n",
       "</style>\n",
       "<table border=\"1\" class=\"dataframe\">\n",
       "  <thead>\n",
       "    <tr style=\"text-align: right;\">\n",
       "      <th></th>\n",
       "      <th>mean</th>\n",
       "      <th>median</th>\n",
       "      <th>variance</th>\n",
       "      <th>standard</th>\n",
       "      <th>SEM</th>\n",
       "    </tr>\n",
       "    <tr>\n",
       "      <th>Drug Regimen</th>\n",
       "      <th></th>\n",
       "      <th></th>\n",
       "      <th></th>\n",
       "      <th></th>\n",
       "      <th></th>\n",
       "    </tr>\n",
       "  </thead>\n",
       "  <tbody>\n",
       "    <tr>\n",
       "      <th>[Capomulin]</th>\n",
       "      <td>40.148392</td>\n",
       "      <td>40.716428</td>\n",
       "      <td>25.434058</td>\n",
       "      <td>5.043219</td>\n",
       "      <td>0.352234</td>\n",
       "    </tr>\n",
       "    <tr>\n",
       "      <th>[Ceftamin]</th>\n",
       "      <td>53.831559</td>\n",
       "      <td>52.847559</td>\n",
       "      <td>34.725752</td>\n",
       "      <td>5.892856</td>\n",
       "      <td>0.476409</td>\n",
       "    </tr>\n",
       "    <tr>\n",
       "      <th>[Infubinol]</th>\n",
       "      <td>54.173160</td>\n",
       "      <td>53.244458</td>\n",
       "      <td>38.326085</td>\n",
       "      <td>6.190806</td>\n",
       "      <td>0.500497</td>\n",
       "    </tr>\n",
       "    <tr>\n",
       "      <th>[Ketapril]</th>\n",
       "      <td>56.805521</td>\n",
       "      <td>56.098998</td>\n",
       "      <td>60.485143</td>\n",
       "      <td>7.777219</td>\n",
       "      <td>0.609159</td>\n",
       "    </tr>\n",
       "    <tr>\n",
       "      <th>[Naftisol]</th>\n",
       "      <td>55.780565</td>\n",
       "      <td>54.234502</td>\n",
       "      <td>60.794406</td>\n",
       "      <td>7.797077</td>\n",
       "      <td>0.614496</td>\n",
       "    </tr>\n",
       "    <tr>\n",
       "      <th>[Placebo]</th>\n",
       "      <td>55.481270</td>\n",
       "      <td>53.354528</td>\n",
       "      <td>55.762387</td>\n",
       "      <td>7.467422</td>\n",
       "      <td>0.597872</td>\n",
       "    </tr>\n",
       "    <tr>\n",
       "      <th>[Propriva]</th>\n",
       "      <td>53.668609</td>\n",
       "      <td>52.663801</td>\n",
       "      <td>38.438982</td>\n",
       "      <td>6.199918</td>\n",
       "      <td>0.531639</td>\n",
       "    </tr>\n",
       "    <tr>\n",
       "      <th>[Ramicane]</th>\n",
       "      <td>39.627674</td>\n",
       "      <td>39.769552</td>\n",
       "      <td>23.213127</td>\n",
       "      <td>4.818000</td>\n",
       "      <td>0.338157</td>\n",
       "    </tr>\n",
       "    <tr>\n",
       "      <th>[Stelasyn]</th>\n",
       "      <td>55.644586</td>\n",
       "      <td>54.328317</td>\n",
       "      <td>53.476333</td>\n",
       "      <td>7.312751</td>\n",
       "      <td>0.583621</td>\n",
       "    </tr>\n",
       "    <tr>\n",
       "      <th>[Zoniferol]</th>\n",
       "      <td>54.548052</td>\n",
       "      <td>53.287287</td>\n",
       "      <td>43.708157</td>\n",
       "      <td>6.611214</td>\n",
       "      <td>0.527632</td>\n",
       "    </tr>\n",
       "  </tbody>\n",
       "</table>\n",
       "</div>"
      ],
      "text/plain": [
       "                   mean     median   variance  standard       SEM\n",
       "Drug Regimen                                                     \n",
       "[Capomulin]   40.148392  40.716428  25.434058  5.043219  0.352234\n",
       "[Ceftamin]    53.831559  52.847559  34.725752  5.892856  0.476409\n",
       "[Infubinol]   54.173160  53.244458  38.326085  6.190806  0.500497\n",
       "[Ketapril]    56.805521  56.098998  60.485143  7.777219  0.609159\n",
       "[Naftisol]    55.780565  54.234502  60.794406  7.797077  0.614496\n",
       "[Placebo]     55.481270  53.354528  55.762387  7.467422  0.597872\n",
       "[Propriva]    53.668609  52.663801  38.438982  6.199918  0.531639\n",
       "[Ramicane]    39.627674  39.769552  23.213127  4.818000  0.338157\n",
       "[Stelasyn]    55.644586  54.328317  53.476333  7.312751  0.583621\n",
       "[Zoniferol]   54.548052  53.287287  43.708157  6.611214  0.527632"
      ]
     },
     "execution_count": 6,
     "metadata": {},
     "output_type": "execute_result"
    }
   ],
   "source": [
    "# Generate a summary statistics table of mean, median, variance, standard deviation, and SEM of the tumor volume for each regimen\n",
    "Summarylist = duplicate_mouseID[['Drug Regimen','Tumor Volume (mm3)']]\n",
    "drugname = Summarylist.groupby(['Drug Regimen'])['Drug Regimen'].unique()\n",
    "\n",
    "mean1 = Summarylist.groupby(['Drug Regimen'])['Tumor Volume (mm3)'].mean()\n",
    "median1 = Summarylist.groupby(['Drug Regimen'])['Tumor Volume (mm3)'].median()\n",
    "variance1 = Summarylist.groupby(['Drug Regimen'])['Tumor Volume (mm3)'].var()\n",
    "standard1 = Summarylist.groupby(['Drug Regimen'])['Tumor Volume (mm3)'].std()\n",
    "sem1 = Summarylist.groupby(['Drug Regimen'])['Tumor Volume (mm3)'].sem()\n",
    "\n",
    "\n",
    "d1 = {'mean': mean1, 'median': median1, 'variance':variance1,'standard':standard1,'SEM':sem1}\n",
    "df1 = pd.DataFrame(data=d1,index =drugname )\n",
    "\n",
    "df1\n"
   ]
  },
  {
   "cell_type": "code",
   "execution_count": 7,
   "id": "6e05cb92",
   "metadata": {
    "pycharm": {
     "name": "#%%\n"
    }
   },
   "outputs": [
    {
     "data": {
      "text/html": [
       "<div>\n",
       "<style scoped>\n",
       "    .dataframe tbody tr th:only-of-type {\n",
       "        vertical-align: middle;\n",
       "    }\n",
       "\n",
       "    .dataframe tbody tr th {\n",
       "        vertical-align: top;\n",
       "    }\n",
       "\n",
       "    .dataframe thead th {\n",
       "        text-align: right;\n",
       "    }\n",
       "</style>\n",
       "<table border=\"1\" class=\"dataframe\">\n",
       "  <thead>\n",
       "    <tr style=\"text-align: right;\">\n",
       "      <th></th>\n",
       "      <th>mean</th>\n",
       "      <th>median</th>\n",
       "      <th>variance</th>\n",
       "      <th>standard</th>\n",
       "      <th>SEM</th>\n",
       "    </tr>\n",
       "    <tr>\n",
       "      <th>Drug Regimen</th>\n",
       "      <th></th>\n",
       "      <th></th>\n",
       "      <th></th>\n",
       "      <th></th>\n",
       "      <th></th>\n",
       "    </tr>\n",
       "  </thead>\n",
       "  <tbody>\n",
       "    <tr>\n",
       "      <th>[Capomulin]</th>\n",
       "      <td>40.148392</td>\n",
       "      <td>40.716428</td>\n",
       "      <td>25.434058</td>\n",
       "      <td>5.043219</td>\n",
       "      <td>0.352234</td>\n",
       "    </tr>\n",
       "    <tr>\n",
       "      <th>[Ceftamin]</th>\n",
       "      <td>53.831559</td>\n",
       "      <td>52.847559</td>\n",
       "      <td>34.725752</td>\n",
       "      <td>5.892856</td>\n",
       "      <td>0.476409</td>\n",
       "    </tr>\n",
       "    <tr>\n",
       "      <th>[Infubinol]</th>\n",
       "      <td>54.173160</td>\n",
       "      <td>53.244458</td>\n",
       "      <td>38.326085</td>\n",
       "      <td>6.190806</td>\n",
       "      <td>0.500497</td>\n",
       "    </tr>\n",
       "    <tr>\n",
       "      <th>[Ketapril]</th>\n",
       "      <td>56.805521</td>\n",
       "      <td>56.098998</td>\n",
       "      <td>60.485143</td>\n",
       "      <td>7.777219</td>\n",
       "      <td>0.609159</td>\n",
       "    </tr>\n",
       "    <tr>\n",
       "      <th>[Naftisol]</th>\n",
       "      <td>55.780565</td>\n",
       "      <td>54.234502</td>\n",
       "      <td>60.794406</td>\n",
       "      <td>7.797077</td>\n",
       "      <td>0.614496</td>\n",
       "    </tr>\n",
       "    <tr>\n",
       "      <th>[Placebo]</th>\n",
       "      <td>55.481270</td>\n",
       "      <td>53.354528</td>\n",
       "      <td>55.762387</td>\n",
       "      <td>7.467422</td>\n",
       "      <td>0.597872</td>\n",
       "    </tr>\n",
       "    <tr>\n",
       "      <th>[Propriva]</th>\n",
       "      <td>53.668609</td>\n",
       "      <td>52.663801</td>\n",
       "      <td>38.438982</td>\n",
       "      <td>6.199918</td>\n",
       "      <td>0.531639</td>\n",
       "    </tr>\n",
       "    <tr>\n",
       "      <th>[Ramicane]</th>\n",
       "      <td>39.627674</td>\n",
       "      <td>39.769552</td>\n",
       "      <td>23.213127</td>\n",
       "      <td>4.818000</td>\n",
       "      <td>0.338157</td>\n",
       "    </tr>\n",
       "    <tr>\n",
       "      <th>[Stelasyn]</th>\n",
       "      <td>55.644586</td>\n",
       "      <td>54.328317</td>\n",
       "      <td>53.476333</td>\n",
       "      <td>7.312751</td>\n",
       "      <td>0.583621</td>\n",
       "    </tr>\n",
       "    <tr>\n",
       "      <th>[Zoniferol]</th>\n",
       "      <td>54.548052</td>\n",
       "      <td>53.287287</td>\n",
       "      <td>43.708157</td>\n",
       "      <td>6.611214</td>\n",
       "      <td>0.527632</td>\n",
       "    </tr>\n",
       "  </tbody>\n",
       "</table>\n",
       "</div>"
      ],
      "text/plain": [
       "                   mean     median   variance  standard       SEM\n",
       "Drug Regimen                                                     \n",
       "[Capomulin]   40.148392  40.716428  25.434058  5.043219  0.352234\n",
       "[Ceftamin]    53.831559  52.847559  34.725752  5.892856  0.476409\n",
       "[Infubinol]   54.173160  53.244458  38.326085  6.190806  0.500497\n",
       "[Ketapril]    56.805521  56.098998  60.485143  7.777219  0.609159\n",
       "[Naftisol]    55.780565  54.234502  60.794406  7.797077  0.614496\n",
       "[Placebo]     55.481270  53.354528  55.762387  7.467422  0.597872\n",
       "[Propriva]    53.668609  52.663801  38.438982  6.199918  0.531639\n",
       "[Ramicane]    39.627674  39.769552  23.213127  4.818000  0.338157\n",
       "[Stelasyn]    55.644586  54.328317  53.476333  7.312751  0.583621\n",
       "[Zoniferol]   54.548052  53.287287  43.708157  6.611214  0.527632"
      ]
     },
     "execution_count": 7,
     "metadata": {},
     "output_type": "execute_result"
    }
   ],
   "source": [
    "# Generate a summary statistics table of mean, median, variance, standard deviation, and SEM of the tumor volume for each regimen\n",
    "\n",
    "# Using the aggregation method, produce the same summary statistics in a single line\n",
    "mean2 = Summarylist.groupby(['Drug Regimen'])['Tumor Volume (mm3)'].agg('mean')\n",
    "median2 = Summarylist.groupby(['Drug Regimen'])['Tumor Volume (mm3)'].agg('median')\n",
    "variance2 = Summarylist.groupby(['Drug Regimen'])['Tumor Volume (mm3)'].agg('var')\n",
    "standard2 = Summarylist.groupby(['Drug Regimen'])['Tumor Volume (mm3)'].agg('std')\n",
    "sem2 = Summarylist.groupby(['Drug Regimen'])['Tumor Volume (mm3)'].agg(\"sem\")\n",
    "\n",
    "\n",
    "d2 = {'mean': mean2, 'median': median2, 'variance':variance2,'standard':standard2,'SEM':sem2}\n",
    "df2 = pd.DataFrame(data=d2,index =drugname )\n",
    "\n",
    "df2\n"
   ]
  },
  {
   "cell_type": "markdown",
   "id": "d9c56e8f",
   "metadata": {
    "pycharm": {
     "name": "#%% md\n"
    }
   },
   "source": [
    "#  Bar and Pie Charts"
   ]
  },
  {
   "cell_type": "code",
   "execution_count": 8,
   "id": "f92596cb",
   "metadata": {
    "pycharm": {
     "name": "#%%\n"
    }
   },
   "outputs": [
    {
     "data": {
      "image/png": "[encoded data removed]",
      "text/plain": [
       "<Figure size 432x288 with 1 Axes>"
      ]
     },
     "metadata": {
      "needs_background": "light"
     },
     "output_type": "display_data"
    }
   ],
   "source": [
    "# Generate a bar plot showing the total number of timepoints for all mice tested for each drug regimen using Pandas.\n",
    "import matplotlib.pyplot as plt\n",
    "\n",
    "BarPielist = duplicate_mouseID[['Drug Regimen','Timepoint']]\n",
    "\n",
    "Y = BarPielist.groupby(['Drug Regimen'])[\"Timepoint\"].sum()\n",
    "\n",
    "X = ['Capomulin','Ceftamin','Infubinol','Ketapril','Naftisol','Placebo','Propriva','Ramicane','Stelasyn','Zoniferol']\n",
    "\n",
    "\n",
    "plt.bar(X,Y, width = 0.5)\n",
    "plt.xticks(rotation = 90)\n",
    "plt.xlabel(\"Timepoint\")\n",
    "plt.ylabel(\"Drug Regimen\")\n",
    "plt.show()\n",
    "\n"
   ]
  },
  {
   "cell_type": "code",
   "execution_count": 9,
   "id": "235717ee",
   "metadata": {
    "pycharm": {
     "name": "#%%\n"
    }
   },
   "outputs": [],
   "source": [
    "# Generate a bar plot showing the total number of timepoints for all mice tested for each drug regimen using pyplot."
   ]
  },
  {
   "cell_type": "code",
   "execution_count": 10,
   "id": "26cb0ca3",
   "metadata": {
    "pycharm": {
     "name": "#%%\n"
    }
   },
   "outputs": [
    {
     "data": {
      "image/png": "[encoded data removed]",
      "text/plain": [
       "<Figure size 360x360 with 1 Axes>"
      ]
     },
     "metadata": {},
     "output_type": "display_data"
    }
   ],
   "source": [
    "Femalenumber = (duplicate_mouseID['Sex']=='Female').agg('sum')\n",
    "Femalenumberpercentage = Femalenumber / len(duplicate_mouseID) * 100\n",
    "\n",
    "Malenumber = (duplicate_mouseID['Sex']=='Male').agg('sum')\n",
    "Malenumberpercentage = Malenumber/len(duplicate_mouseID) * 100\n",
    "\n",
    "# Generate a pie plot showing the distribution of female versus male mice using Pandas\n",
    "\n",
    "labels = 'Female','male'\n",
    "\n",
    "sizes = [Femalenumberpercentage, Malenumberpercentage]\n",
    "\n",
    "df = pd.DataFrame({Femalenumberpercentage,\n",
    "                   Malenumberpercentage},\n",
    "                  index=['Female', 'male'])\n",
    "plot = df.plot.pie(subplots=True,figsize=(5, 5),autopct='%1.1f%%',\n",
    "                  shadow=True, startangle=90)"
   ]
  },
  {
   "cell_type": "code",
   "execution_count": 11,
   "id": "a7d4a67d",
   "metadata": {
    "pycharm": {
     "name": "#%%\n"
    }
   },
   "outputs": [
    {
     "data": {
      "image/png": "[encoded data removed]",
      "text/plain": [
       "<Figure size 432x288 with 1 Axes>"
      ]
     },
     "metadata": {},
     "output_type": "display_data"
    }
   ],
   "source": [
    "# Generate a pie plot showing the distribution of female versus male mice using pyplot\n",
    "\n",
    "Femalenumber = (duplicate_mouseID['Sex']=='Female').agg('sum')\n",
    "Femalenumberpercentage = Femalenumber / len(duplicate_mouseID) * 100\n",
    "\n",
    "Malenumber = (duplicate_mouseID['Sex']=='Male').agg('sum')\n",
    "Malenumberpercentage = Malenumber/len(duplicate_mouseID) * 100\n",
    "\n",
    "labels = 'Female','male'\n",
    "\n",
    "sizes = [Femalenumberpercentage, Malenumberpercentage]\n",
    "\n",
    "fig1, ax1 = plt.subplots()\n",
    "ax1.pie(sizes, labels=labels, autopct='%1.1f%%',\n",
    "        shadow=True, startangle=90)\n",
    "ax1.axis('equal') \n",
    "\n",
    "plt.show()"
   ]
  },
  {
   "cell_type": "markdown",
   "id": "dc3791b6",
   "metadata": {
    "pycharm": {
     "name": "#%% md\n"
    }
   },
   "source": [
    "#  Quartiles, Outliers and Boxplots"
   ]
  },
  {
   "cell_type": "code",
   "execution_count": 12,
   "id": "c144ae5a",
   "metadata": {
    "pycharm": {
     "name": "#%%\n"
    }
   },
   "outputs": [
    {
     "data": {
      "text/html": [
       "<div>\n",
       "<style scoped>\n",
       "    .dataframe tbody tr th:only-of-type {\n",
       "        vertical-align: middle;\n",
       "    }\n",
       "\n",
       "    .dataframe tbody tr th {\n",
       "        vertical-align: top;\n",
       "    }\n",
       "\n",
       "    .dataframe thead th {\n",
       "        text-align: right;\n",
       "    }\n",
       "</style>\n",
       "<table border=\"1\" class=\"dataframe\">\n",
       "  <thead>\n",
       "    <tr style=\"text-align: right;\">\n",
       "      <th></th>\n",
       "      <th>Mouse ID</th>\n",
       "      <th>Drug Regimen</th>\n",
       "      <th>Sex</th>\n",
       "      <th>Age_months</th>\n",
       "      <th>Weight (g)</th>\n",
       "      <th>Timepoint</th>\n",
       "      <th>Tumor Volume (mm3)</th>\n",
       "      <th>Metastatic Sites</th>\n",
       "    </tr>\n",
       "  </thead>\n",
       "  <tbody>\n",
       "    <tr>\n",
       "      <th>1763</th>\n",
       "      <td>n364</td>\n",
       "      <td>Ramicane</td>\n",
       "      <td>Male</td>\n",
       "      <td>4</td>\n",
       "      <td>17</td>\n",
       "      <td>45</td>\n",
       "      <td>31.095335</td>\n",
       "      <td>1</td>\n",
       "    </tr>\n",
       "    <tr>\n",
       "      <th>1764</th>\n",
       "      <td>b128</td>\n",
       "      <td>Capomulin</td>\n",
       "      <td>Female</td>\n",
       "      <td>9</td>\n",
       "      <td>22</td>\n",
       "      <td>45</td>\n",
       "      <td>38.982878</td>\n",
       "      <td>2</td>\n",
       "    </tr>\n",
       "    <tr>\n",
       "      <th>1765</th>\n",
       "      <td>l661</td>\n",
       "      <td>Ceftamin</td>\n",
       "      <td>Male</td>\n",
       "      <td>18</td>\n",
       "      <td>26</td>\n",
       "      <td>45</td>\n",
       "      <td>59.851956</td>\n",
       "      <td>3</td>\n",
       "    </tr>\n",
       "    <tr>\n",
       "      <th>1766</th>\n",
       "      <td>y865</td>\n",
       "      <td>Ceftamin</td>\n",
       "      <td>Male</td>\n",
       "      <td>23</td>\n",
       "      <td>26</td>\n",
       "      <td>45</td>\n",
       "      <td>64.729837</td>\n",
       "      <td>3</td>\n",
       "    </tr>\n",
       "    <tr>\n",
       "      <th>1767</th>\n",
       "      <td>y769</td>\n",
       "      <td>Ceftamin</td>\n",
       "      <td>Female</td>\n",
       "      <td>6</td>\n",
       "      <td>27</td>\n",
       "      <td>45</td>\n",
       "      <td>68.594745</td>\n",
       "      <td>4</td>\n",
       "    </tr>\n",
       "    <tr>\n",
       "      <th>...</th>\n",
       "      <td>...</td>\n",
       "      <td>...</td>\n",
       "      <td>...</td>\n",
       "      <td>...</td>\n",
       "      <td>...</td>\n",
       "      <td>...</td>\n",
       "      <td>...</td>\n",
       "      <td>...</td>\n",
       "    </tr>\n",
       "    <tr>\n",
       "      <th>1879</th>\n",
       "      <td>a644</td>\n",
       "      <td>Ramicane</td>\n",
       "      <td>Female</td>\n",
       "      <td>7</td>\n",
       "      <td>17</td>\n",
       "      <td>45</td>\n",
       "      <td>32.978522</td>\n",
       "      <td>1</td>\n",
       "    </tr>\n",
       "    <tr>\n",
       "      <th>1885</th>\n",
       "      <td>i177</td>\n",
       "      <td>Ramicane</td>\n",
       "      <td>Male</td>\n",
       "      <td>10</td>\n",
       "      <td>18</td>\n",
       "      <td>45</td>\n",
       "      <td>33.562402</td>\n",
       "      <td>3</td>\n",
       "    </tr>\n",
       "    <tr>\n",
       "      <th>1888</th>\n",
       "      <td>r944</td>\n",
       "      <td>Capomulin</td>\n",
       "      <td>Male</td>\n",
       "      <td>12</td>\n",
       "      <td>25</td>\n",
       "      <td>45</td>\n",
       "      <td>41.581521</td>\n",
       "      <td>2</td>\n",
       "    </tr>\n",
       "    <tr>\n",
       "      <th>1889</th>\n",
       "      <td>u364</td>\n",
       "      <td>Capomulin</td>\n",
       "      <td>Male</td>\n",
       "      <td>18</td>\n",
       "      <td>17</td>\n",
       "      <td>45</td>\n",
       "      <td>31.023923</td>\n",
       "      <td>3</td>\n",
       "    </tr>\n",
       "    <tr>\n",
       "      <th>1890</th>\n",
       "      <td>p438</td>\n",
       "      <td>Ceftamin</td>\n",
       "      <td>Female</td>\n",
       "      <td>11</td>\n",
       "      <td>26</td>\n",
       "      <td>45</td>\n",
       "      <td>61.433892</td>\n",
       "      <td>1</td>\n",
       "    </tr>\n",
       "  </tbody>\n",
       "</table>\n",
       "<p>63 rows × 8 columns</p>\n",
       "</div>"
      ],
      "text/plain": [
       "     Mouse ID Drug Regimen     Sex  Age_months  Weight (g)  Timepoint  \\\n",
       "1763     n364     Ramicane    Male           4          17         45   \n",
       "1764     b128    Capomulin  Female           9          22         45   \n",
       "1765     l661     Ceftamin    Male          18          26         45   \n",
       "1766     y865     Ceftamin    Male          23          26         45   \n",
       "1767     y769     Ceftamin  Female           6          27         45   \n",
       "...       ...          ...     ...         ...         ...        ...   \n",
       "1879     a644     Ramicane  Female           7          17         45   \n",
       "1885     i177     Ramicane    Male          10          18         45   \n",
       "1888     r944    Capomulin    Male          12          25         45   \n",
       "1889     u364    Capomulin    Male          18          17         45   \n",
       "1890     p438     Ceftamin  Female          11          26         45   \n",
       "\n",
       "      Tumor Volume (mm3)  Metastatic Sites  \n",
       "1763           31.095335                 1  \n",
       "1764           38.982878                 2  \n",
       "1765           59.851956                 3  \n",
       "1766           64.729837                 3  \n",
       "1767           68.594745                 4  \n",
       "...                  ...               ...  \n",
       "1879           32.978522                 1  \n",
       "1885           33.562402                 3  \n",
       "1888           41.581521                 2  \n",
       "1889           31.023923                 3  \n",
       "1890           61.433892                 1  \n",
       "\n",
       "[63 rows x 8 columns]"
      ]
     },
     "execution_count": 12,
     "metadata": {},
     "output_type": "execute_result"
    }
   ],
   "source": [
    "# Capomulin, Ramicane, Infubinol, and Ceftamin\n",
    "\n",
    "a = duplicate_mouseID[duplicate_mouseID['Drug Regimen'].isin(['Capomulin','Ramicane','Infubinol','Ceftamin'])]\n",
    "FinalTumor = a[a['Timepoint'] == a['Timepoint'].max()]\n",
    "FinalTumor\n",
    "\n"
   ]
  },
  {
   "cell_type": "code",
   "execution_count": 13,
   "id": "299c9f34",
   "metadata": {
    "pycharm": {
     "name": "#%%\n"
    },
    "scrolled": false
   },
   "outputs": [
    {
     "name": "stdout",
     "output_type": "stream",
     "text": [
      "In Capomulin, Any Number above upper_bound: 51.83201549 or below: 20.70456164999999 are outliers\n",
      "In Ceftamin, Any Number above upper_bound: 76.66786758 or below: 52.29350701999999 are outliers\n",
      "In Ramicane, Any Number above upper_bound: 49.79900043125001 or below: 19.69048010125 are outliers\n",
      "In Infubinol, Any Number above upper_bound: 75.08224443499999 or below: 55.35777559500001 are outliers\n"
     ]
    }
   ],
   "source": [
    "# Put treatments into a list for for loop (and later for plot labels)\n",
    "TreatmentList = FinalTumor[\"Drug Regimen\"].unique()\n",
    "\n",
    "\n",
    "# Create empty list to fill with tumor vol data (for plotting)\n",
    "List = [[],[],[],[]]\n",
    "for index, row in FinalTumor.iterrows():\n",
    "    if row['Drug Regimen'] == \"Capomulin\":\n",
    "        List[0].append((row['Tumor Volume (mm3)']))\n",
    "    elif row['Drug Regimen'] == \"Ceftamin\":\n",
    "        List[1].append((row['Tumor Volume (mm3)']))\n",
    "    elif row['Drug Regimen'] == \"Ramicane\":\n",
    "        List[2].append((row['Tumor Volume (mm3)']))\n",
    "    elif row['Drug Regimen'] == \"Infubinol\":\n",
    "        List[3].append((row['Tumor Volume (mm3)']))\n",
    "        \n",
    "# Capomulin\n",
    "CapomulinQ1 = np.quantile(List[0],0.25)\n",
    "CapomulinQ3 = np.quantile(List[0],0.75)\n",
    "Capomulin_IQR = CapomulinQ3 - CapomulinQ1\n",
    "\n",
    "Capomulinupper_bound = CapomulinQ3 + 1.5 * Capomulin_IQR\n",
    "Capomulinlower_bound = CapomulinQ1 - 1.5 * Capomulin_IQR\n",
    "print(\"In Capomulin, Any Number above upper_bound: \" + str(Capomulinupper_bound) + \" or below: \" + str(Capomulinlower_bound) + \" are outliers\" )\n",
    "\n",
    "#Ceftamin\n",
    "CeftaminQ1 = np.quantile(List[1],0.25)\n",
    "CeftaminQ3 = np.quantile(List[1],0.75)\n",
    "Ceftamin_IQR = CeftaminQ3 - CeftaminQ1\n",
    "\n",
    "Ceftaminupper_bound = CeftaminQ3 + 1.5 * Ceftamin_IQR\n",
    "Ceftaminlower_bound = CeftaminQ1 - 1.5 * Ceftamin_IQR\n",
    "print(\"In Ceftamin, Any Number above upper_bound: \" + str(Ceftaminupper_bound) + \" or below: \" + str(Ceftaminlower_bound) + \" are outliers\" )\n",
    "\n",
    "#Ramicane\n",
    "RamicaneQ1 = np.quantile(List[2],0.25)\n",
    "RamicaneQ3 = np.quantile(List[2],0.75)\n",
    "Ramicane_IQR = RamicaneQ3 - RamicaneQ1\n",
    "\n",
    "Ramicaneupper_bound = RamicaneQ3 + 1.5 * Ramicane_IQR\n",
    "Ramicanelower_bound = RamicaneQ1 - 1.5 * Ramicane_IQR\n",
    "print(\"In Ramicane, Any Number above upper_bound: \" + str(Ramicaneupper_bound) + \" or below: \" + str(Ramicanelower_bound) + \" are outliers\" )\n",
    "\n",
    "#Infubinol\n",
    "InfubinolQ1 = np.quantile(List[3],0.25)\n",
    "InfubinolQ3 = np.quantile(List[3],0.75)\n",
    "Infubinol_IQR = InfubinolQ3 - InfubinolQ1\n",
    "\n",
    "Infubinolupper_bound = InfubinolQ3 + 1.5 * Infubinol_IQR\n",
    "Infubinollower_bound = InfubinolQ1 - 1.5 * Infubinol_IQR\n",
    "print(\"In Infubinol, Any Number above upper_bound: \" + str(Infubinolupper_bound) + \" or below: \" + str(Infubinollower_bound) + \" are outliers\" )\n",
    "\n",
    "# Locate the rows which contain mice on each drug and get the tumor volumes\n",
    "# add subset \n",
    "# Determine outliers using upper and lower bounds\n",
    "\n"
   ]
  },
  {
   "cell_type": "code",
   "execution_count": 14,
   "id": "6740a4d9",
   "metadata": {
    "pycharm": {
     "name": "#%%\n"
    }
   },
   "outputs": [
    {
     "data": {
      "image/png": "[encoded data removed]",
      "text/plain": [
       "<Figure size 432x288 with 1 Axes>"
      ]
     },
     "metadata": {
      "needs_background": "light"
     },
     "output_type": "display_data"
    }
   ],
   "source": [
    "# Generate a box plot of the final tumor volume of each mouse across four regimens of interest\n",
    "\n",
    "\n",
    "data = [List[0], List[1], List[2],List[3]]\n",
    "# ax7.set_title('the final tumor volume of each mouse across four regimens of interest')\n",
    "plt.boxplot(data)\n",
    "plt.xticks([1, 2, 3, 4 ], ['Capomulin', 'Ceftamin', 'Ramicane','Infubinol'])\n",
    "\n",
    "\n",
    "\n",
    "\n",
    "plt.show()"
   ]
  },
  {
   "cell_type": "markdown",
   "id": "248aaaf2",
   "metadata": {
    "pycharm": {
     "name": "#%% md\n"
    }
   },
   "source": [
    "#  Line and Scatter Plots\n"
   ]
  },
  {
   "cell_type": "code",
   "execution_count": 15,
   "id": "518c5596",
   "metadata": {
    "pycharm": {
     "is_executing": true,
     "name": "#%%\n"
    }
   },
   "outputs": [
    {
     "data": {
      "image/png": "[encoded data removed]",
      "text/plain": [
       "<Figure size 432x288 with 1 Axes>"
      ]
     },
     "metadata": {
      "needs_background": "light"
     },
     "output_type": "display_data"
    }
   ],
   "source": [
    "# Generate a line plot of tumor volume vs. time point for a mouse treated with Capomulin\n",
    "target_mouse = duplicate_mouseID[duplicate_mouseID['Mouse ID'] == 's185']\n",
    "target_mouse\n",
    "plt.plot(target_mouse['Timepoint'],target_mouse['Tumor Volume (mm3)'])\n",
    "plt.xlabel('Timepoint')\n",
    "plt.ylabel('Tumor Volume (mm3)')\n",
    "plt.title('Capomulin treatmeant of mouse s185')\n",
    "plt.show()"
   ]
  },
  {
   "cell_type": "code",
   "execution_count": 16,
   "id": "873eab97",
   "metadata": {
    "pycharm": {
     "name": "#%%\n"
    }
   },
   "outputs": [
    {
     "data": {
      "image/png": "[encoded data removed]",
      "text/plain": [
       "<Figure size 432x288 with 1 Axes>"
      ]
     },
     "metadata": {
      "needs_background": "light"
     },
     "output_type": "display_data"
    }
   ],
   "source": [
    "# Generate a scatter plot of average tumor volume vs. mouse weight for the Capomulin regimen\n",
    "Capomulin = duplicate_mouseID[duplicate_mouseID['Drug Regimen'] == 'Capomulin']\n",
    "\n",
    "# average tumor volume vs. mouse weight\n",
    "Capomulin = Capomulin.groupby('Mouse ID').agg({'Weight (g)':'mean','Tumor Volume (mm3)':'mean'})\n",
    "Capomulin\n",
    "plt.scatter(Capomulin['Weight (g)'],Capomulin['Tumor Volume (mm3)'])\n",
    "plt.xlabel('Weight (g)')\n",
    "plt.ylabel('Tumor Volume (mm3)')\n",
    "plt.title('Capomulin')\n",
    "plt.show()"
   ]
  },
  {
   "cell_type": "markdown",
   "id": "a07bfe9f",
   "metadata": {
    "pycharm": {
     "name": "#%% md\n"
    }
   },
   "source": [
    "# Correlation and Regression"
   ]
  },
  {
   "cell_type": "code",
   "execution_count": 20,
   "id": "7db243c6",
   "metadata": {
    "pycharm": {
     "name": "#%%\n"
    }
   },
   "outputs": [
    {
     "data": {
      "image/png": "[encoded data removed]",
      "text/plain": [
       "<Figure size 432x288 with 1 Axes>"
      ]
     },
     "metadata": {
      "needs_background": "light"
     },
     "output_type": "display_data"
    }
   ],
   "source": [
    "# Calculate the correlation coefficient and linear regression model \n",
    "\n",
    "# for mouse weight and average tumor volume for the Capomulin regimen\n",
    "d = np.polyfit(Capomulin['Weight (g)'],Capomulin['Tumor Volume (mm3)'],1)\n",
    "f = np.poly1d(d)\n",
    "plt.plot(Capomulin['Weight (g)'],Capomulin['Tumor Volume (mm3)'],'o',Capomulin['Weight (g)'],f(Capomulin['Weight (g)']))\n",
    "plt.xlabel('Weight (g)')\n",
    "plt.ylabel('Tumor Volume (mm3)')\n",
    "plt.title('Capomulin')\n",
    "plt.show()"
   ]
  },
  {
   "cell_type": "code",
   "execution_count": null,
   "id": "55423a4c",
   "metadata": {
    "pycharm": {
     "name": "#%%\n"
    }
   },
   "outputs": [],
   "source": []
  },
  {
   "cell_type": "code",
   "execution_count": null,
   "id": "9d7db6af",
   "metadata": {
    "pycharm": {
     "name": "#%%\n"
    }
   },
   "outputs": [],
   "source": []
  },
  {
   "cell_type": "code",
   "execution_count": null,
   "id": "4eb3f81b",
   "metadata": {
    "pycharm": {
     "name": "#%%\n"
    }
   },
   "outputs": [],
   "source": []
  }
 ],
 "metadata": {
  "kernelspec": {
   "display_name": "Python 3 (ipykernel)",
   "language": "python",
   "name": "python3"
  },
  "language_info": {
   "codemirror_mode": {
    "name": "ipython",
    "version": 3
   },
   "file_extension": ".py",
   "mimetype": "text/x-python",
   "name": "python",
   "nbconvert_exporter": "python",
   "pygments_lexer": "ipython3",
   "version": "3.9.7"
  }
 },
 "nbformat": 4,
 "nbformat_minor": 5
}
